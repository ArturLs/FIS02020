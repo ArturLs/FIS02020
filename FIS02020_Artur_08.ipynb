{
 "cells": [
  {
   "cell_type": "markdown",
   "id": "874e765e-5c41-4102-ae76-c45243fa6d1d",
   "metadata": {},
   "source": [
    "# Loop for\n",
    "\n",
    "- repetições de um ou mais comandos\n",
    "- for <interador>:"
   ]
  },
  {
   "cell_type": "code",
   "execution_count": 1,
   "id": "7c2753cc-309d-413c-95ce-361af1267555",
   "metadata": {},
   "outputs": [],
   "source": [
    "# Exemplo 1\n",
    "lista = ['H','He', 'Li', 'B', 'F', 'C']"
   ]
  },
  {
   "cell_type": "code",
   "execution_count": 3,
   "id": "db11a645-be2b-431b-85a8-c4107b854d0d",
   "metadata": {},
   "outputs": [
    {
     "name": "stdout",
     "output_type": "stream",
     "text": [
      "H\n",
      "He\n",
      "Li\n",
      "B\n",
      "F\n",
      "C\n"
     ]
    }
   ],
   "source": [
    "for elemento in lista:\n",
    "    print(elemento) "
   ]
  },
  {
   "cell_type": "code",
   "execution_count": 4,
   "id": "d0503ec4-10ec-4c2e-9310-3ef097d5274b",
   "metadata": {},
   "outputs": [
    {
     "name": "stdout",
     "output_type": "stream",
     "text": [
      "1\n",
      "2\n",
      "3\n",
      "4\n",
      "5\n",
      "6\n",
      "7\n",
      "8\n",
      "9\n",
      "10\n"
     ]
    }
   ],
   "source": [
    "# Exemplo 2:\n",
    "for n in range(1,11):\n",
    "    print(n)"
   ]
  },
  {
   "cell_type": "code",
   "execution_count": 7,
   "id": "4b80b547-1197-402b-a5d1-373b2742e6e8",
   "metadata": {},
   "outputs": [
    {
     "name": "stdout",
     "output_type": "stream",
     "text": [
      "range(1, 11)\n"
     ]
    }
   ],
   "source": [
    "print( range(1,11))"
   ]
  },
  {
   "cell_type": "code",
   "execution_count": 9,
   "id": "74d7dba4-8822-4276-a261-007e413ac054",
   "metadata": {},
   "outputs": [
    {
     "name": "stdout",
     "output_type": "stream",
     "text": [
      "0\n",
      "2\n",
      "4\n",
      "6\n",
      "8\n",
      "10\n",
      "12\n",
      "14\n",
      "16\n",
      "18\n",
      "20\n",
      "22\n",
      "24\n",
      "26\n",
      "28\n",
      "30\n",
      "32\n",
      "34\n",
      "36\n",
      "38\n",
      "40\n",
      "42\n",
      "44\n",
      "46\n",
      "48\n",
      "50\n",
      "52\n",
      "54\n",
      "56\n",
      "58\n",
      "60\n",
      "62\n",
      "64\n",
      "66\n",
      "68\n",
      "70\n",
      "72\n",
      "74\n",
      "76\n",
      "78\n",
      "80\n",
      "82\n",
      "84\n",
      "86\n",
      "88\n",
      "90\n",
      "92\n",
      "94\n",
      "96\n",
      "98\n"
     ]
    }
   ],
   "source": [
    "for n in range(0,100,2):\n",
    "    print(n)"
   ]
  },
  {
   "cell_type": "code",
   "execution_count": 12,
   "id": "97a84553-48db-4880-945e-25881cafa26c",
   "metadata": {},
   "outputs": [
    {
     "name": "stdout",
     "output_type": "stream",
     "text": [
      "11\n",
      "12\n",
      "13\n",
      "14\n",
      "15\n",
      "16\n",
      "17\n",
      "18\n",
      "19\n"
     ]
    }
   ],
   "source": [
    "# Printar numeros 11 a 19\n",
    "for n in range(11,20):\n",
    "    print(n)"
   ]
  },
  {
   "cell_type": "markdown",
   "id": "bcf44d29-1fc9-4644-85f9-ca14d9c17795",
   "metadata": {},
   "source": [
    "## Exercicio \n",
    "\n",
    "Gere um código em python para calcular a altura $h$ em função do tempo $t$ em um movimento de queda livre a partir de uma altura inicial $h_0$. Use a equação:\n",
    "\n",
    "$h = h_0 + v_0\\, t + \\frac{1}{2}\\, g\\, t^2$\n",
    "\n",
    "Assuma $V_0=0\\,$ e $g=9,81$ m/s $^2$"
   ]
  },
  {
   "cell_type": "code",
   "execution_count": 41,
   "id": "425db791-d75d-4b66-bcb9-de0f36dc4e56",
   "metadata": {},
   "outputs": [
    {
     "name": "stdin",
     "output_type": "stream",
     "text": [
      "valor da altura inicial:  2\n"
     ]
    },
    {
     "name": "stdout",
     "output_type": "stream",
     "text": [
      "[2.0, 6.9, 21.6, 46.1, 80.4, 124.50000000000001, 178.4, 242.10000000000002, 315.6, 398.90000000000003]\n"
     ]
    }
   ],
   "source": [
    "h0 = float(input(\"valor da altura inicial: \"))\n",
    "v0 = 0\n",
    "t_max = 10\n",
    "\n",
    "lista_altura =[]\n",
    "\n",
    "\n",
    "for t in range(0,t_max):\n",
    "    h = h0 +(0.5) * (9.8) * (t**2)\n",
    "    lista_altura+= [h]\n",
    "\n",
    "print(lista_altura)"
   ]
  },
  {
   "cell_type": "code",
   "execution_count": null,
   "id": "b6137372-ffc7-4fb3-ac7c-b13325a16856",
   "metadata": {},
   "outputs": [],
   "source": []
  }
 ],
 "metadata": {
  "kernelspec": {
   "display_name": "Python 3 (ipykernel)",
   "language": "python",
   "name": "python3"
  },
  "language_info": {
   "codemirror_mode": {
    "name": "ipython",
    "version": 3
   },
   "file_extension": ".py",
   "mimetype": "text/x-python",
   "name": "python",
   "nbconvert_exporter": "python",
   "pygments_lexer": "ipython3",
   "version": "3.12.3"
  }
 },
 "nbformat": 4,
 "nbformat_minor": 5
}
